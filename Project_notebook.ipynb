{
 "cells": [
  {
   "cell_type": "markdown",
   "id": "2b8e10ee",
   "metadata": {},
   "source": [
    "# Deep learning project: Colorizing black and white images"
   ]
  },
  {
   "cell_type": "markdown",
   "id": "b932fb95",
   "metadata": {},
   "source": [
    "## 0. Introduction\n",
    "This notebook contains the code and results for the project done by Eric Johansson and Per Ljung in the course Deep machine learning (SSY340/DAT968). The main objective is to take black and white images as input and colorize them using <font color='red'>whatever we end up using</font>. <font color='green'>Further explore possibility of sequences of images.</font>"
   ]
  },
  {
   "cell_type": "markdown",
   "id": "0839b92c",
   "metadata": {},
   "source": [
    "## 1. Collecting and pre-processing of data\n",
    "As dataset we use the ImageNet database. The goal of this section is to\n",
    "<ol>\n",
    "  <li>Download the data from ImageNet.</li>\n",
    "  <li>Split the data into training, validation and testing datasets.</li>\n",
    "  <li>Provide a function that can turn a colorful image into black and white format.</li>\n",
    "</ol>\n",
    "We begin by importing necessary modules for the project."
   ]
  },
  {
   "cell_type": "code",
   "execution_count": 1,
   "id": "a4b273dd",
   "metadata": {},
   "outputs": [],
   "source": [
    "import numpy as np\n",
    "import matplotlib.pyplot as plt\n",
    "%matplotlib inline\n",
    "\n",
    "import torch\n",
    "import torch.nn as nn\n",
    "import torch.nn.functional as F"
   ]
  },
  {
   "cell_type": "markdown",
   "id": "922bcf66",
   "metadata": {},
   "source": [
    "### 1.1 Download data from ImageNet"
   ]
  },
  {
   "cell_type": "code",
   "execution_count": null,
   "id": "dd870c60",
   "metadata": {},
   "outputs": [],
   "source": []
  }
 ],
 "metadata": {
  "kernelspec": {
   "display_name": "Python 3",
   "language": "python",
   "name": "python3"
  },
  "language_info": {
   "codemirror_mode": {
    "name": "ipython",
    "version": 3
   },
   "file_extension": ".py",
   "mimetype": "text/x-python",
   "name": "python",
   "nbconvert_exporter": "python",
   "pygments_lexer": "ipython3",
   "version": "3.7.11"
  }
 },
 "nbformat": 4,
 "nbformat_minor": 5
}
